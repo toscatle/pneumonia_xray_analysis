{
 "cells": [
  {
   "cell_type": "markdown",
   "metadata": {},
   "source": [
    "As mentioned in the main analysis notebook, this is a preliminary notebook to randomly move some of the test images to the validation set since there were very few in the val folder. I received help from Joél Collin on these steps."
   ]
  },
  {
   "cell_type": "code",
   "execution_count": 2,
   "metadata": {},
   "outputs": [],
   "source": [
    "#imports\n",
    "import numpy as np\n",
    "import os\n",
    "import shutil\n",
    "import math"
   ]
  },
  {
   "cell_type": "code",
   "execution_count": 4,
   "metadata": {},
   "outputs": [],
   "source": [
    "#paths to respective folders of train, test, val\n",
    "data_path = os.path.join('chest-xray-pneumonia', 'chest_xray')\n",
    "train_path = os.path.join(data_path, 'train')\n",
    "test_path = os.path.join(data_path, 'test')\n",
    "val_path = os.path.join(data_path, 'val')"
   ]
  },
  {
   "cell_type": "code",
   "execution_count": 8,
   "metadata": {},
   "outputs": [
    {
     "data": {
      "text/plain": [
       "560"
      ]
     },
     "execution_count": 8,
     "metadata": {},
     "output_type": "execute_result"
    }
   ],
   "source": [
    "#paths to classes within test and val folders\n",
    "test_pne = os.path.join(test_path, 'PNEUMONIA')\n",
    "test_nor = os.path.join(test_path, 'NORMAL')\n",
    "\n",
    "val_pne = os.path.join(val_path, 'PNEUMONIA')\n",
    "val_nor = os.path.join(val_path, 'NORMAL')\n",
    "\n",
    "#number of images between both classes in test data\n",
    "test_pne_imgs = os.listdir(test_pne)\n",
    "test_nor_imgs = os.listdir(test_nor)\n",
    "\n",
    "len(test_pne_imgs + test_nor_imgs)"
   ]
  },
  {
   "cell_type": "code",
   "execution_count": 12,
   "metadata": {},
   "outputs": [],
   "source": [
    "#randomly selecting 20% from the test pneumonia images\n",
    "val_pne_size = math.ceil(.2 * len(test_pne_imgs))\n",
    "val_pne_names = np.random.choice(test_pne_imgs, size=val_pne_size, replace=False)\n",
    "\n",
    "#creating the source and destination paths from test to val pneumonia folders\n",
    "src_pne = [os.path.join(test_pne, name) for name in val_pne_names]\n",
    "dest_pne = [os.path.join(val_pne, name) for name in val_pne_names]"
   ]
  },
  {
   "cell_type": "code",
   "execution_count": 31,
   "metadata": {},
   "outputs": [],
   "source": [
    "#looping through and moving images\n",
    "for src, dest in zip(src_pne, dest_pne):\n",
    "    shutil.move(src, dest)"
   ]
  },
  {
   "cell_type": "code",
   "execution_count": 18,
   "metadata": {},
   "outputs": [
    {
     "data": {
      "text/plain": [
       "81"
      ]
     },
     "execution_count": 18,
     "metadata": {},
     "output_type": "execute_result"
    }
   ],
   "source": [
    "#checking if images have moved\n",
    "len(os.listdir(val_pne))"
   ]
  },
  {
   "cell_type": "code",
   "execution_count": 19,
   "metadata": {},
   "outputs": [
    {
     "data": {
      "text/plain": [
       "64"
      ]
     },
     "execution_count": 19,
     "metadata": {},
     "output_type": "execute_result"
    }
   ],
   "source": [
    "len(src_pne)"
   ]
  },
  {
   "cell_type": "code",
   "execution_count": 14,
   "metadata": {},
   "outputs": [],
   "source": [
    "#same as above, moving test normal to val normal\n",
    "val_nor_size = math.ceil(.2 *len(test_nor_imgs))\n",
    "val_nor_names = np.random.choice(test_nor_imgs, size=val_nor_size, replace=False)\n",
    "\n",
    "src_nor = [os.path.join(test_nor, name) for name in val_nor_names]\n",
    "dest_nor = [os.path.join(val_nor, name) for name in val_nor_names]"
   ]
  },
  {
   "cell_type": "code",
   "execution_count": 15,
   "metadata": {},
   "outputs": [],
   "source": [
    "for src, dest in zip(src_nor, dest_nor):\n",
    "    shutil.move(src, dest)"
   ]
  },
  {
   "cell_type": "code",
   "execution_count": 16,
   "metadata": {},
   "outputs": [
    {
     "data": {
      "text/plain": [
       "50"
      ]
     },
     "execution_count": 16,
     "metadata": {},
     "output_type": "execute_result"
    }
   ],
   "source": [
    "len(os.listdir(val_nor))"
   ]
  },
  {
   "cell_type": "code",
   "execution_count": 17,
   "metadata": {},
   "outputs": [
    {
     "data": {
      "text/plain": [
       "49"
      ]
     },
     "execution_count": 17,
     "metadata": {},
     "output_type": "execute_result"
    }
   ],
   "source": [
    "len(src_nor)"
   ]
  }
 ],
 "metadata": {
  "kernelspec": {
   "display_name": "learn-env",
   "language": "python",
   "name": "learn-env"
  },
  "language_info": {
   "codemirror_mode": {
    "name": "ipython",
    "version": 3
   },
   "file_extension": ".py",
   "mimetype": "text/x-python",
   "name": "python",
   "nbconvert_exporter": "python",
   "pygments_lexer": "ipython3",
   "version": "3.8.5"
  },
  "toc": {
   "base_numbering": 1,
   "nav_menu": {},
   "number_sections": true,
   "sideBar": true,
   "skip_h1_title": false,
   "title_cell": "Table of Contents",
   "title_sidebar": "Contents",
   "toc_cell": false,
   "toc_position": {},
   "toc_section_display": true,
   "toc_window_display": false
  },
  "varInspector": {
   "cols": {
    "lenName": 16,
    "lenType": 16,
    "lenVar": 40
   },
   "kernels_config": {
    "python": {
     "delete_cmd_postfix": "",
     "delete_cmd_prefix": "del ",
     "library": "var_list.py",
     "varRefreshCmd": "print(var_dic_list())"
    },
    "r": {
     "delete_cmd_postfix": ") ",
     "delete_cmd_prefix": "rm(",
     "library": "var_list.r",
     "varRefreshCmd": "cat(var_dic_list()) "
    }
   },
   "types_to_exclude": [
    "module",
    "function",
    "builtin_function_or_method",
    "instance",
    "_Feature"
   ],
   "window_display": false
  }
 },
 "nbformat": 4,
 "nbformat_minor": 4
}
